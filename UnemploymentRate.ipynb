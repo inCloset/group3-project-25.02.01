{
 "cells": [
  {
   "cell_type": "code",
   "execution_count": 1,
   "metadata": {},
   "outputs": [],
   "source": [
    "import requests as req\n",
    "import json\n",
    "import pandas as pd\n",
    "import time\n",
    "import os\n"
   ]
  },
  {
   "cell_type": "code",
   "execution_count": 2,
   "metadata": {},
   "outputs": [
    {
     "name": "stdout",
     "output_type": "stream",
     "text": [
      "77fcc0e0e450426db6aff0c8303e6054\n"
     ]
    }
   ],
   "source": [
    "# Get the API key from the environment\n",
    "BLS_API_KEY = os.environ.get('BLS_API_KEY')\n",
    "user_email = 'franktsibu@gmail.com'\n",
    "print(BLS_API_KEY)"
   ]
  },
  {
   "cell_type": "code",
   "execution_count": null,
   "metadata": {},
   "outputs": [
    {
     "name": "stdout",
     "output_type": "stream",
     "text": [
      "{\"user-id\": \"franktsibu@gmail.com\", \"api-key\": \"77fcc0e0e450426db6aff0c8303e6054\", \"seriesid\": [\"LNS14000000\"], \"startyear\": \"2014\", \"endyear\": \"2024\"}\n",
      "{'status': 'REQUEST_NOT_PROCESSED', 'responseTime': 0, 'message': ['Request could not be serviced, as the daily threshold for total number of requests allocated to the user with registration key  has been reached.'], 'Results': {}}\n"
     ]
    }
   ],
   "source": [
    "headers = {'Content-type':'application/json'}\n",
    "data = json.dumps({\n",
    "    'user-id': user_email,\n",
    "    'api-key': BLS_API_KEY,\n",
    "    'seriesid':['LNS14000000'], \n",
    "    'startyear':'2014', \n",
    "    'endyear':'2024'}\n",
    "    )\n",
    "resp = req.post(url='https://api.bls.gov/publicAPI/v2/timeseries/data/',data=data, headers=headers)\n",
    "json_data = json.loads(resp.text)\n",
    "print(json_data)"
   ]
  },
  {
   "cell_type": "code",
   "execution_count": null,
   "metadata": {},
   "outputs": [
    {
     "name": "stdout",
     "output_type": "stream",
     "text": [
      "[{'year': '2023', 'month': 'December', 'value': '3.8'}, {'year': '2023', 'month': 'November', 'value': '3.7'}, {'year': '2023', 'month': 'October', 'value': '3.9'}, {'year': '2023', 'month': 'September', 'value': '3.8'}, {'year': '2023', 'month': 'August', 'value': '3.7'}, {'year': '2023', 'month': 'July', 'value': '3.5'}, {'year': '2023', 'month': 'June', 'value': '3.6'}, {'year': '2023', 'month': 'May', 'value': '3.6'}, {'year': '2023', 'month': 'April', 'value': '3.4'}, {'year': '2023', 'month': 'March', 'value': '3.5'}, {'year': '2023', 'month': 'February', 'value': '3.6'}, {'year': '2023', 'month': 'January', 'value': '3.5'}, {'year': '2022', 'month': 'December', 'value': '3.5'}, {'year': '2022', 'month': 'November', 'value': '3.6'}, {'year': '2022', 'month': 'October', 'value': '3.6'}, {'year': '2022', 'month': 'September', 'value': '3.5'}, {'year': '2022', 'month': 'August', 'value': '3.6'}, {'year': '2022', 'month': 'July', 'value': '3.5'}, {'year': '2022', 'month': 'June', 'value': '3.6'}, {'year': '2022', 'month': 'May', 'value': '3.6'}, {'year': '2022', 'month': 'April', 'value': '3.7'}, {'year': '2022', 'month': 'March', 'value': '3.7'}, {'year': '2022', 'month': 'February', 'value': '3.8'}, {'year': '2022', 'month': 'January', 'value': '4.0'}, {'year': '2021', 'month': 'December', 'value': '3.9'}, {'year': '2021', 'month': 'November', 'value': '4.2'}, {'year': '2021', 'month': 'October', 'value': '4.5'}, {'year': '2021', 'month': 'September', 'value': '4.7'}, {'year': '2021', 'month': 'August', 'value': '5.1'}, {'year': '2021', 'month': 'July', 'value': '5.4'}, {'year': '2021', 'month': 'June', 'value': '5.9'}, {'year': '2021', 'month': 'May', 'value': '5.8'}, {'year': '2021', 'month': 'April', 'value': '6.1'}, {'year': '2021', 'month': 'March', 'value': '6.1'}, {'year': '2021', 'month': 'February', 'value': '6.2'}, {'year': '2021', 'month': 'January', 'value': '6.4'}, {'year': '2020', 'month': 'December', 'value': '6.7'}, {'year': '2020', 'month': 'November', 'value': '6.7'}, {'year': '2020', 'month': 'October', 'value': '6.9'}, {'year': '2020', 'month': 'September', 'value': '7.8'}, {'year': '2020', 'month': 'August', 'value': '8.4'}, {'year': '2020', 'month': 'July', 'value': '10.2'}, {'year': '2020', 'month': 'June', 'value': '11.0'}, {'year': '2020', 'month': 'May', 'value': '13.2'}, {'year': '2020', 'month': 'April', 'value': '14.8'}, {'year': '2020', 'month': 'March', 'value': '4.4'}, {'year': '2020', 'month': 'February', 'value': '3.5'}, {'year': '2020', 'month': 'January', 'value': '3.6'}, {'year': '2019', 'month': 'December', 'value': '3.6'}, {'year': '2019', 'month': 'November', 'value': '3.6'}, {'year': '2019', 'month': 'October', 'value': '3.6'}, {'year': '2019', 'month': 'September', 'value': '3.5'}, {'year': '2019', 'month': 'August', 'value': '3.6'}, {'year': '2019', 'month': 'July', 'value': '3.7'}, {'year': '2019', 'month': 'June', 'value': '3.6'}, {'year': '2019', 'month': 'May', 'value': '3.6'}, {'year': '2019', 'month': 'April', 'value': '3.7'}, {'year': '2019', 'month': 'March', 'value': '3.8'}, {'year': '2019', 'month': 'February', 'value': '3.8'}, {'year': '2019', 'month': 'January', 'value': '4.0'}, {'year': '2018', 'month': 'December', 'value': '3.9'}, {'year': '2018', 'month': 'November', 'value': '3.8'}, {'year': '2018', 'month': 'October', 'value': '3.8'}, {'year': '2018', 'month': 'September', 'value': '3.7'}, {'year': '2018', 'month': 'August', 'value': '3.8'}, {'year': '2018', 'month': 'July', 'value': '3.8'}, {'year': '2018', 'month': 'June', 'value': '4.0'}, {'year': '2018', 'month': 'May', 'value': '3.8'}, {'year': '2018', 'month': 'April', 'value': '4.0'}, {'year': '2018', 'month': 'March', 'value': '4.0'}, {'year': '2018', 'month': 'February', 'value': '4.1'}, {'year': '2018', 'month': 'January', 'value': '4.0'}, {'year': '2017', 'month': 'December', 'value': '4.1'}, {'year': '2017', 'month': 'November', 'value': '4.2'}, {'year': '2017', 'month': 'October', 'value': '4.2'}, {'year': '2017', 'month': 'September', 'value': '4.3'}, {'year': '2017', 'month': 'August', 'value': '4.4'}, {'year': '2017', 'month': 'July', 'value': '4.3'}, {'year': '2017', 'month': 'June', 'value': '4.3'}, {'year': '2017', 'month': 'May', 'value': '4.4'}, {'year': '2017', 'month': 'April', 'value': '4.4'}, {'year': '2017', 'month': 'March', 'value': '4.4'}, {'year': '2017', 'month': 'February', 'value': '4.6'}, {'year': '2017', 'month': 'January', 'value': '4.7'}, {'year': '2016', 'month': 'December', 'value': '4.7'}, {'year': '2016', 'month': 'November', 'value': '4.7'}, {'year': '2016', 'month': 'October', 'value': '4.9'}, {'year': '2016', 'month': 'September', 'value': '5.0'}, {'year': '2016', 'month': 'August', 'value': '4.9'}, {'year': '2016', 'month': 'July', 'value': '4.8'}, {'year': '2016', 'month': 'June', 'value': '4.9'}, {'year': '2016', 'month': 'May', 'value': '4.8'}, {'year': '2016', 'month': 'April', 'value': '5.1'}, {'year': '2016', 'month': 'March', 'value': '5.0'}, {'year': '2016', 'month': 'February', 'value': '4.9'}, {'year': '2016', 'month': 'January', 'value': '4.8'}, {'year': '2015', 'month': 'December', 'value': '5.0'}, {'year': '2015', 'month': 'November', 'value': '5.1'}, {'year': '2015', 'month': 'October', 'value': '5.0'}, {'year': '2015', 'month': 'September', 'value': '5.0'}, {'year': '2015', 'month': 'August', 'value': '5.1'}, {'year': '2015', 'month': 'July', 'value': '5.2'}, {'year': '2015', 'month': 'June', 'value': '5.3'}, {'year': '2015', 'month': 'May', 'value': '5.6'}, {'year': '2015', 'month': 'April', 'value': '5.4'}, {'year': '2015', 'month': 'March', 'value': '5.4'}, {'year': '2015', 'month': 'February', 'value': '5.5'}, {'year': '2015', 'month': 'January', 'value': '5.7'}, {'year': '2014', 'month': 'December', 'value': '5.6'}, {'year': '2014', 'month': 'November', 'value': '5.8'}, {'year': '2014', 'month': 'October', 'value': '5.7'}, {'year': '2014', 'month': 'September', 'value': '5.9'}, {'year': '2014', 'month': 'August', 'value': '6.1'}, {'year': '2014', 'month': 'July', 'value': '6.2'}, {'year': '2014', 'month': 'June', 'value': '6.1'}, {'year': '2014', 'month': 'May', 'value': '6.3'}, {'year': '2014', 'month': 'April', 'value': '6.2'}, {'year': '2014', 'month': 'March', 'value': '6.7'}, {'year': '2014', 'month': 'February', 'value': '6.7'}, {'year': '2014', 'month': 'January', 'value': '6.6'}]\n"
     ]
    }
   ],
   "source": [
    "unemp_national_dataset = []\n",
    "for series in json_data['Results']['series']:\n",
    "    for entry in series['data']:\n",
    "        unemp_national_dataset.append(\n",
    "            {\n",
    "            'year': entry['year'],\n",
    "            'month': entry['periodName'],\n",
    "            'value': entry['value']\n",
    "            }\n",
    "        )\n",
    "print(unemp_national_dataset)"
   ]
  },
  {
   "cell_type": "code",
   "execution_count": null,
   "metadata": {},
   "outputs": [
    {
     "name": "stdout",
     "output_type": "stream",
     "text": [
      "     year      month  value\n",
      "0    2023   December    3.8\n",
      "1    2023   November    3.7\n",
      "2    2023    October    3.9\n",
      "3    2023  September    3.8\n",
      "4    2023     August    3.7\n",
      "..    ...        ...    ...\n",
      "115  2014        May    6.3\n",
      "116  2014      April    6.2\n",
      "117  2014      March    6.7\n",
      "118  2014   February    6.7\n",
      "119  2014    January    6.6\n",
      "\n",
      "[120 rows x 3 columns]\n"
     ]
    }
   ],
   "source": [
    "unemp_df = pd.DataFrame(unemp_national_dataset)\n",
    "unemp_df['value'] = pd.to_numeric(unemp_df['value'])\n",
    "print(unemp_df)"
   ]
  },
  {
   "cell_type": "markdown",
   "metadata": {},
   "source": []
  },
  {
   "cell_type": "code",
   "execution_count": 86,
   "metadata": {},
   "outputs": [
    {
     "data": {
      "text/plain": [
       "<Axes: xlabel='month'>"
      ]
     },
     "execution_count": 86,
     "metadata": {},
     "output_type": "execute_result"
    },
    {
     "data": {
      "image/png": "[encoded data removed]",
      "text/plain": [
       "<Figure size 640x480 with 1 Axes>"
      ]
     },
     "metadata": {},
     "output_type": "display_data"
    }
   ],
   "source": [
    "#plot the data\n",
    "unemp_df.plot(x='month', y='value', kind='line')"
   ]
  },
  {
   "cell_type": "code",
   "execution_count": null,
   "metadata": {},
   "outputs": [
    {
     "name": "stdout",
     "output_type": "stream",
     "text": [
      "LASST010000000000003\n",
      "{\"user-id\": \"franktsibu@gmail.com\", \"api-key\": \"77fcc0e0e450426db6aff0c8303e6054\", \"seriesid\": [\"LASST010000000000003\"], \"startyear\": \"2014\", \"endyear\": \"2024\"}\n",
      "{'status': 'REQUEST_NOT_PROCESSED', 'responseTime': 0, 'message': ['Request could not be serviced, as the daily threshold for total number of requests allocated to the user with registration key  has been reached.'], 'Results': {}}\n"
     ]
    },
    {
     "ename": "KeyError",
     "evalue": "'series'",
     "output_type": "error",
     "traceback": [
      "\u001b[0;31m---------------------------------------------------------------------------\u001b[0m",
      "\u001b[0;31mKeyError\u001b[0m                                  Traceback (most recent call last)",
      "Cell \u001b[0;32mIn[5], line 26\u001b[0m\n\u001b[1;32m     23\u001b[0m \u001b[38;5;28mprint\u001b[39m(json_data)\n\u001b[1;32m     25\u001b[0m unemp_state_dataset \u001b[38;5;241m=\u001b[39m []\n\u001b[0;32m---> 26\u001b[0m \u001b[38;5;28;01mfor\u001b[39;00m series \u001b[38;5;129;01min\u001b[39;00m \u001b[43mjson_data\u001b[49m\u001b[43m[\u001b[49m\u001b[38;5;124;43m'\u001b[39;49m\u001b[38;5;124;43mResults\u001b[39;49m\u001b[38;5;124;43m'\u001b[39;49m\u001b[43m]\u001b[49m\u001b[43m[\u001b[49m\u001b[38;5;124;43m'\u001b[39;49m\u001b[38;5;124;43mseries\u001b[39;49m\u001b[38;5;124;43m'\u001b[39;49m\u001b[43m]\u001b[49m:\n\u001b[1;32m     27\u001b[0m     \u001b[38;5;28;01mfor\u001b[39;00m entry \u001b[38;5;129;01min\u001b[39;00m series[\u001b[38;5;124m'\u001b[39m\u001b[38;5;124mdata\u001b[39m\u001b[38;5;124m'\u001b[39m]:\n\u001b[1;32m     28\u001b[0m         unemp_state_dataset\u001b[38;5;241m.\u001b[39mappend(\n\u001b[1;32m     29\u001b[0m             {\n\u001b[1;32m     30\u001b[0m             \u001b[38;5;124m'\u001b[39m\u001b[38;5;124myear\u001b[39m\u001b[38;5;124m'\u001b[39m: entry[\u001b[38;5;124m'\u001b[39m\u001b[38;5;124myear\u001b[39m\u001b[38;5;124m'\u001b[39m],\n\u001b[0;32m   (...)\u001b[0m\n\u001b[1;32m     33\u001b[0m             }\n\u001b[1;32m     34\u001b[0m         )\n",
      "\u001b[0;31mKeyError\u001b[0m: 'series'"
     ]
    }
   ],
   "source": [
    "#fetch data for a all 50 states wait for 5 seconds between each request\n",
    "headers = {'Content-type':'application/json'}\n",
    "state_code = ['1', '2','4','5','6','8','9','10','11','12','13','15','16','17',\n",
    "               '18','19','20','21','22','23','24','25','26','27','28','29','30',\n",
    "               '31','32','33','34','35','36','37','38','39','40','41','42','44',\n",
    "               '45','46','47','48','49','50']\n",
    "for state_cd in state_code:\n",
    "    if len(state_cd) > 1:\n",
    "        series_id = f'LASST{state_cd}0000000000003'\n",
    "    else:\n",
    "        series_id = f'LASST0{state_cd}0000000000003'\n",
    "    print(series_id)\n",
    "    data = json.dumps({\n",
    "        'user-id': user_email,\n",
    "        'api-key': BLS_API_KEY,\n",
    "        'seriesid':[series_id], \n",
    "        'startyear':'2014', \n",
    "        'endyear':'2024'\n",
    "        })\n",
    "    print(data)\n",
    "    resp = req.post(url='https://api.bls.gov/publicAPI/v2/timeseries/data/',data=data, headers=headers)\n",
    "    json_data = json.loads(resp.text)\n",
    "    print(json_data)\n",
    "\n",
    "    unemp_state_dataset = []\n",
    "    for series in json_data['Results']['series']:\n",
    "        for entry in series['data']:\n",
    "            unemp_state_dataset.append(\n",
    "                {\n",
    "                'year': entry['year'],\n",
    "                'month': entry['periodName'],\n",
    "                'value': entry['value']\n",
    "                }\n",
    "            )\n",
    "    print(unemp_state_dataset)\n",
    "\n",
    "    # unemp_df = pd.DataFrame(unemp_state_dataset)\n",
    "    # unemp_df['value'] = pd.to_numeric(unemp_df['value'])\n",
    "    # print(unemp_df)\n",
    "\n",
    "    # plot the data\n",
    "    # unemp_df.plot(x='month', y='value', kind='line')\n"
   ]
  }
 ],
 "metadata": {
  "kernelspec": {
   "display_name": ".venv",
   "language": "python",
   "name": "python3"
  },
  "language_info": {
   "codemirror_mode": {
    "name": "ipython",
    "version": 3
   },
   "file_extension": ".py",
   "mimetype": "text/x-python",
   "name": "python",
   "nbconvert_exporter": "python",
   "pygments_lexer": "ipython3",
   "version": "3.13.0"
  }
 },
 "nbformat": 4,
 "nbformat_minor": 2
}
